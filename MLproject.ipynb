{
 "cells": [
  {
   "cell_type": "code",
   "execution_count": 1,
   "metadata": {
    "collapsed": true
   },
   "outputs": [],
   "source": [
    "import pandas as pd\n",
    "import numpy as np\n",
    "from matplotlib import pyplot as plt\n",
    "\n",
    "%matplotlib inline "
   ]
  },
  {
   "cell_type": "code",
   "execution_count": 2,
   "metadata": {
    "collapsed": false
   },
   "outputs": [
    {
     "name": "stderr",
     "output_type": "stream",
     "text": [
      "/Users/yiranxu/anaconda/lib/python3.5/site-packages/IPython/core/interactiveshell.py:2723: DtypeWarning: Columns (0,1,2) have mixed types. Specify dtype option on import or set low_memory=False.\n",
      "  interactivity=interactivity, compiler=compiler, result=result)\n"
     ]
    }
   ],
   "source": [
    "train_merge = pd.read_csv(\"train_merge.csv\")"
   ]
  },
  {
   "cell_type": "code",
   "execution_count": 3,
   "metadata": {
    "collapsed": false
   },
   "outputs": [
    {
     "data": {
      "text/plain": [
       "Index(['userID', 'itemID', 'rating', 'label'], dtype='object')"
      ]
     },
     "execution_count": 3,
     "metadata": {},
     "output_type": "execute_result"
    }
   ],
   "source": [
    "train_merge.columns"
   ]
  },
  {
   "cell_type": "code",
   "execution_count": 4,
   "metadata": {
    "collapsed": false
   },
   "outputs": [
    {
     "data": {
      "text/html": [
       "<div>\n",
       "<table border=\"1\" class=\"dataframe\">\n",
       "  <thead>\n",
       "    <tr style=\"text-align: right;\">\n",
       "      <th></th>\n",
       "      <th>userID</th>\n",
       "      <th>itemID</th>\n",
       "      <th>rating</th>\n",
       "      <th>label</th>\n",
       "    </tr>\n",
       "  </thead>\n",
       "  <tbody>\n",
       "    <tr>\n",
       "      <th>5910</th>\n",
       "      <td>176831</td>\n",
       "      <td>100296</td>\n",
       "      <td>30</td>\n",
       "      <td>track</td>\n",
       "    </tr>\n",
       "    <tr>\n",
       "      <th>5911</th>\n",
       "      <td>183126</td>\n",
       "      <td>100296</td>\n",
       "      <td>0</td>\n",
       "      <td>track</td>\n",
       "    </tr>\n",
       "    <tr>\n",
       "      <th>5912</th>\n",
       "      <td>189019</td>\n",
       "      <td>100296</td>\n",
       "      <td>0</td>\n",
       "      <td>track</td>\n",
       "    </tr>\n",
       "    <tr>\n",
       "      <th>5913</th>\n",
       "      <td>191122</td>\n",
       "      <td>100296</td>\n",
       "      <td>50</td>\n",
       "      <td>track</td>\n",
       "    </tr>\n",
       "    <tr>\n",
       "      <th>5914</th>\n",
       "      <td>192757</td>\n",
       "      <td>100296</td>\n",
       "      <td>30</td>\n",
       "      <td>track</td>\n",
       "    </tr>\n",
       "  </tbody>\n",
       "</table>\n",
       "</div>"
      ],
      "text/plain": [
       "      userID  itemID rating  label\n",
       "5910  176831  100296     30  track\n",
       "5911  183126  100296      0  track\n",
       "5912  189019  100296      0  track\n",
       "5913  191122  100296     50  track\n",
       "5914  192757  100296     30  track"
      ]
     },
     "execution_count": 4,
     "metadata": {},
     "output_type": "execute_result"
    }
   ],
   "source": [
    "track=train_merge[train_merge['label']=='track']\n",
    "track.head()"
   ]
  },
  {
   "cell_type": "code",
   "execution_count": 5,
   "metadata": {
    "collapsed": false
   },
   "outputs": [
    {
     "name": "stderr",
     "output_type": "stream",
     "text": [
      "/Users/yiranxu/anaconda/lib/python3.5/site-packages/pandas/core/generic.py:2701: SettingWithCopyWarning: \n",
      "A value is trying to be set on a copy of a slice from a DataFrame.\n",
      "Try using .loc[row_indexer,col_indexer] = value instead\n",
      "\n",
      "See the caveats in the documentation: http://pandas.pydata.org/pandas-docs/stable/indexing.html#indexing-view-versus-copy\n",
      "  self[name] = value\n"
     ]
    }
   ],
   "source": [
    "track.rating = track.rating.astype(int)"
   ]
  },
  {
   "cell_type": "code",
   "execution_count": 6,
   "metadata": {
    "collapsed": false
   },
   "outputs": [
    {
     "name": "stdout",
     "output_type": "stream",
     "text": [
      "<class 'pandas.core.frame.DataFrame'>\n",
      "Int64Index: 27167857 entries, 5910 to 61944605\n",
      "Data columns (total 4 columns):\n",
      "userID    object\n",
      "itemID    object\n",
      "rating    int64\n",
      "label     object\n",
      "dtypes: int64(1), object(3)\n",
      "memory usage: 1.0+ GB\n"
     ]
    }
   ],
   "source": [
    "track.info()"
   ]
  },
  {
   "cell_type": "code",
   "execution_count": 13,
   "metadata": {
    "collapsed": false
   },
   "outputs": [
    {
     "data": {
      "image/png": "[encoded data removed]",
      "text/plain": [
       "<matplotlib.figure.Figure at 0x1163f60f0>"
      ]
     },
     "metadata": {},
     "output_type": "display_data"
    }
   ],
   "source": [
    "plt.figure()\n",
    "hist_inc = track['rating'].hist()\n",
    "plt.title('Histogram of track rating')\n",
    "plt.savefig(\"hist_track_rating.jpeg\")\n",
    "plt.show()"
   ]
  },
  {
   "cell_type": "code",
   "execution_count": 7,
   "metadata": {
    "collapsed": false
   },
   "outputs": [],
   "source": [
    "#train_merge.rating = train_merge.rating.astype(int)\n",
    "#there are 200 records where rating is \"rating\"\n",
    "train_merge=train_merge[train_merge['rating']!='rating']\n",
    "#train_merge.value_counts"
   ]
  },
  {
   "cell_type": "code",
   "execution_count": 8,
   "metadata": {
    "collapsed": false
   },
   "outputs": [
    {
     "data": {
      "text/html": [
       "<div>\n",
       "<table border=\"1\" class=\"dataframe\">\n",
       "  <thead>\n",
       "    <tr style=\"text-align: right;\">\n",
       "      <th></th>\n",
       "      <th>userID</th>\n",
       "      <th>itemID</th>\n",
       "      <th>rating</th>\n",
       "      <th>label</th>\n",
       "    </tr>\n",
       "  </thead>\n",
       "  <tbody>\n",
       "  </tbody>\n",
       "</table>\n",
       "</div>"
      ],
      "text/plain": [
       "Empty DataFrame\n",
       "Columns: [userID, itemID, rating, label]\n",
       "Index: []"
      ]
     },
     "execution_count": 8,
     "metadata": {},
     "output_type": "execute_result"
    }
   ],
   "source": [
    "#check\n",
    "train_merge[train_merge['rating']=='rating']"
   ]
  },
  {
   "cell_type": "code",
   "execution_count": 17,
   "metadata": {
    "collapsed": false
   },
   "outputs": [
    {
     "data": {
      "text/plain": [
       "0      10381110\n",
       "90     10250892\n",
       "0       7932206\n",
       "90      6856283\n",
       "50      3971842\n",
       "70      3788267\n",
       "30      3015953\n",
       "50      3011603\n",
       "70      2881402\n",
       "30      2288816\n",
       "100     1617169\n",
       "80      1349161\n",
       "100     1218611\n",
       "80       777261\n",
       "60       225636\n",
       "10       196640\n",
       "60       172075\n",
       "10       139414\n",
       "40       121229\n",
       "20       117666\n",
       "40        93109\n",
       "20        89393\n",
       "85        45150\n",
       "85        34656\n",
       "83        32155\n",
       "75        31647\n",
       "87        30424\n",
       "92        28736\n",
       "89        27463\n",
       "81        27307\n",
       "         ...   \n",
       "22         2182\n",
       "51         2145\n",
       "53         2139\n",
       "47         2113\n",
       "18         2043\n",
       "9          1923\n",
       "42         1895\n",
       "38         1830\n",
       "29         1826\n",
       "31         1813\n",
       "33         1774\n",
       "11         1771\n",
       "46         1764\n",
       "53         1754\n",
       "7          1745\n",
       "49         1709\n",
       "27         1699\n",
       "22         1594\n",
       "51         1539\n",
       "38         1459\n",
       "31         1451\n",
       "44         1441\n",
       "9          1435\n",
       "33         1429\n",
       "7          1413\n",
       "29         1409\n",
       "11         1396\n",
       "49         1328\n",
       "27         1309\n",
       "44         1156\n",
       "Name: rating, dtype: int64"
      ]
     },
     "execution_count": 17,
     "metadata": {},
     "output_type": "execute_result"
    }
   ],
   "source": [
    "train_merge['rating'].value_counts()"
   ]
  },
  {
   "cell_type": "code",
   "execution_count": 18,
   "metadata": {
    "collapsed": false
   },
   "outputs": [
    {
     "name": "stdout",
     "output_type": "stream",
     "text": [
      "<class 'pandas.core.frame.DataFrame'>\n",
      "Int64Index: 61944406 entries, 0 to 61944605\n",
      "Data columns (total 4 columns):\n",
      "userID    object\n",
      "itemID    object\n",
      "rating    object\n",
      "label     object\n",
      "dtypes: object(4)\n",
      "memory usage: 2.3+ GB\n"
     ]
    }
   ],
   "source": [
    "train_merge.info()"
   ]
  },
  {
   "cell_type": "code",
   "execution_count": 9,
   "metadata": {
    "collapsed": false
   },
   "outputs": [],
   "source": [
    "train_merge['rating'] = train_merge['rating'] .astype(int)"
   ]
  },
  {
   "cell_type": "code",
   "execution_count": 34,
   "metadata": {
    "collapsed": false
   },
   "outputs": [
    {
     "data": {
      "image/png": "[encoded data removed]",
      "text/plain": [
       "<matplotlib.figure.Figure at 0x1175c5940>"
      ]
     },
     "metadata": {},
     "output_type": "display_data"
    }
   ],
   "source": [
    "plt.figure()\n",
    "hist_inc = train_merge['rating'].hist()\n",
    "plt.title('Histogram of all ratings')\n",
    "plt.savefig(\"hist_all_rating.jpeg\")\n",
    "plt.show()"
   ]
  },
  {
   "cell_type": "markdown",
   "metadata": {},
   "source": [
    "To fit logistic regression model, we need to bin \"rating\" variable. The cutting points are based on histogram:[0:20] is \"Very_Low\",[21,40] is \"Low\", [41,60] is \"Okay\",\n",
    "[61,80] is \"Good\",[81:100] is \"Very_Good\"."
   ]
  },
  {
   "cell_type": "code",
   "execution_count": 10,
   "metadata": {
    "collapsed": false
   },
   "outputs": [],
   "source": [
    "bins = [0, 20, 40, 60, 80,100]\n",
    "group_names = ['1', '2', '3', '4','5']\n",
    "categories = pd.cut(train_merge['rating'], bins, labels=group_names,include_lowest=True,right=True)\n",
    "#train_merge['rating_categories'] = pd.cut(train_merge['rating'], bins, labels=group_names)\n"
   ]
  },
  {
   "cell_type": "code",
   "execution_count": 11,
   "metadata": {
    "collapsed": true
   },
   "outputs": [],
   "source": [
    "train_merge['rating_categories']=categories"
   ]
  },
  {
   "cell_type": "code",
   "execution_count": 12,
   "metadata": {
    "collapsed": false
   },
   "outputs": [
    {
     "data": {
      "text/plain": [
       "2    214338\n",
       "5         0\n",
       "4         0\n",
       "3         0\n",
       "1         0\n",
       "Name: rating_categories, dtype: int64"
      ]
     },
     "execution_count": 12,
     "metadata": {},
     "output_type": "execute_result"
    }
   ],
   "source": [
    "train_merge[train_merge['rating']==40]['rating_categories'].value_counts()"
   ]
  },
  {
   "cell_type": "code",
   "execution_count": 22,
   "metadata": {
    "collapsed": false
   },
   "outputs": [
    {
     "data": {
      "text/html": [
       "<div>\n",
       "<table border=\"1\" class=\"dataframe\">\n",
       "  <thead>\n",
       "    <tr style=\"text-align: right;\">\n",
       "      <th></th>\n",
       "      <th>rating</th>\n",
       "    </tr>\n",
       "  </thead>\n",
       "  <tbody>\n",
       "    <tr>\n",
       "      <th>count</th>\n",
       "      <td>6.194441e+07</td>\n",
       "    </tr>\n",
       "    <tr>\n",
       "      <th>mean</th>\n",
       "      <td>5.015647e+01</td>\n",
       "    </tr>\n",
       "    <tr>\n",
       "      <th>std</th>\n",
       "      <td>3.794629e+01</td>\n",
       "    </tr>\n",
       "    <tr>\n",
       "      <th>min</th>\n",
       "      <td>0.000000e+00</td>\n",
       "    </tr>\n",
       "    <tr>\n",
       "      <th>25%</th>\n",
       "      <td>0.000000e+00</td>\n",
       "    </tr>\n",
       "    <tr>\n",
       "      <th>50%</th>\n",
       "      <td>5.000000e+01</td>\n",
       "    </tr>\n",
       "    <tr>\n",
       "      <th>75%</th>\n",
       "      <td>9.000000e+01</td>\n",
       "    </tr>\n",
       "    <tr>\n",
       "      <th>max</th>\n",
       "      <td>1.000000e+02</td>\n",
       "    </tr>\n",
       "  </tbody>\n",
       "</table>\n",
       "</div>"
      ],
      "text/plain": [
       "             rating\n",
       "count  6.194441e+07\n",
       "mean   5.015647e+01\n",
       "std    3.794629e+01\n",
       "min    0.000000e+00\n",
       "25%    0.000000e+00\n",
       "50%    5.000000e+01\n",
       "75%    9.000000e+01\n",
       "max    1.000000e+02"
      ]
     },
     "execution_count": 22,
     "metadata": {},
     "output_type": "execute_result"
    }
   ],
   "source": [
    "train_merge.describe()"
   ]
  },
  {
   "cell_type": "code",
   "execution_count": 13,
   "metadata": {
    "collapsed": false
   },
   "outputs": [
    {
     "data": {
      "text/html": [
       "<div>\n",
       "<table border=\"1\" class=\"dataframe\">\n",
       "  <thead>\n",
       "    <tr style=\"text-align: right;\">\n",
       "      <th></th>\n",
       "      <th>userID</th>\n",
       "      <th>itemID</th>\n",
       "      <th>rating</th>\n",
       "      <th>label</th>\n",
       "      <th>rating_categories</th>\n",
       "    </tr>\n",
       "  </thead>\n",
       "  <tbody>\n",
       "    <tr>\n",
       "      <th>0</th>\n",
       "      <td>172295</td>\n",
       "      <td>100007</td>\n",
       "      <td>0</td>\n",
       "      <td>artist</td>\n",
       "      <td>1</td>\n",
       "    </tr>\n",
       "    <tr>\n",
       "      <th>1</th>\n",
       "      <td>172305</td>\n",
       "      <td>100007</td>\n",
       "      <td>90</td>\n",
       "      <td>artist</td>\n",
       "      <td>5</td>\n",
       "    </tr>\n",
       "    <tr>\n",
       "      <th>2</th>\n",
       "      <td>172362</td>\n",
       "      <td>100007</td>\n",
       "      <td>90</td>\n",
       "      <td>artist</td>\n",
       "      <td>5</td>\n",
       "    </tr>\n",
       "    <tr>\n",
       "      <th>3</th>\n",
       "      <td>172416</td>\n",
       "      <td>100007</td>\n",
       "      <td>70</td>\n",
       "      <td>artist</td>\n",
       "      <td>4</td>\n",
       "    </tr>\n",
       "    <tr>\n",
       "      <th>4</th>\n",
       "      <td>172483</td>\n",
       "      <td>100007</td>\n",
       "      <td>90</td>\n",
       "      <td>artist</td>\n",
       "      <td>5</td>\n",
       "    </tr>\n",
       "  </tbody>\n",
       "</table>\n",
       "</div>"
      ],
      "text/plain": [
       "   userID  itemID  rating   label rating_categories\n",
       "0  172295  100007       0  artist                 1\n",
       "1  172305  100007      90  artist                 5\n",
       "2  172362  100007      90  artist                 5\n",
       "3  172416  100007      70  artist                 4\n",
       "4  172483  100007      90  artist                 5"
      ]
     },
     "execution_count": 13,
     "metadata": {},
     "output_type": "execute_result"
    }
   ],
   "source": [
    "train_merge.head()"
   ]
  },
  {
   "cell_type": "code",
   "execution_count": 14,
   "metadata": {
    "collapsed": true
   },
   "outputs": [],
   "source": [
    "train_merge.to_csv('train_merge_clean_and_bin406.csv',encoding='utf-8',index=False)"
   ]
  },
  {
   "cell_type": "code",
   "execution_count": 15,
   "metadata": {
    "collapsed": true
   },
   "outputs": [],
   "source": [
    "#check\n",
    "train_merge2 = pd.read_csv(\"train_merge_clean_and_bin406.csv\")"
   ]
  },
  {
   "cell_type": "code",
   "execution_count": 16,
   "metadata": {
    "collapsed": false
   },
   "outputs": [
    {
     "data": {
      "text/html": [
       "<div>\n",
       "<table border=\"1\" class=\"dataframe\">\n",
       "  <thead>\n",
       "    <tr style=\"text-align: right;\">\n",
       "      <th></th>\n",
       "      <th>userID</th>\n",
       "      <th>itemID</th>\n",
       "      <th>rating</th>\n",
       "      <th>label</th>\n",
       "      <th>rating_categories</th>\n",
       "    </tr>\n",
       "  </thead>\n",
       "  <tbody>\n",
       "    <tr>\n",
       "      <th>0</th>\n",
       "      <td>172295</td>\n",
       "      <td>100007</td>\n",
       "      <td>0</td>\n",
       "      <td>artist</td>\n",
       "      <td>1</td>\n",
       "    </tr>\n",
       "    <tr>\n",
       "      <th>1</th>\n",
       "      <td>172305</td>\n",
       "      <td>100007</td>\n",
       "      <td>90</td>\n",
       "      <td>artist</td>\n",
       "      <td>5</td>\n",
       "    </tr>\n",
       "    <tr>\n",
       "      <th>2</th>\n",
       "      <td>172362</td>\n",
       "      <td>100007</td>\n",
       "      <td>90</td>\n",
       "      <td>artist</td>\n",
       "      <td>5</td>\n",
       "    </tr>\n",
       "    <tr>\n",
       "      <th>3</th>\n",
       "      <td>172416</td>\n",
       "      <td>100007</td>\n",
       "      <td>70</td>\n",
       "      <td>artist</td>\n",
       "      <td>4</td>\n",
       "    </tr>\n",
       "    <tr>\n",
       "      <th>4</th>\n",
       "      <td>172483</td>\n",
       "      <td>100007</td>\n",
       "      <td>90</td>\n",
       "      <td>artist</td>\n",
       "      <td>5</td>\n",
       "    </tr>\n",
       "  </tbody>\n",
       "</table>\n",
       "</div>"
      ],
      "text/plain": [
       "   userID  itemID  rating   label  rating_categories\n",
       "0  172295  100007       0  artist                  1\n",
       "1  172305  100007      90  artist                  5\n",
       "2  172362  100007      90  artist                  5\n",
       "3  172416  100007      70  artist                  4\n",
       "4  172483  100007      90  artist                  5"
      ]
     },
     "execution_count": 16,
     "metadata": {},
     "output_type": "execute_result"
    }
   ],
   "source": [
    "train_merge2.head()"
   ]
  },
  {
   "cell_type": "code",
   "execution_count": 17,
   "metadata": {
    "collapsed": false
   },
   "outputs": [
    {
     "data": {
      "text/html": [
       "<div>\n",
       "<table border=\"1\" class=\"dataframe\">\n",
       "  <thead>\n",
       "    <tr style=\"text-align: right;\">\n",
       "      <th></th>\n",
       "      <th>userID</th>\n",
       "      <th>itemID</th>\n",
       "      <th>rating</th>\n",
       "      <th>label</th>\n",
       "      <th>rating_categories</th>\n",
       "    </tr>\n",
       "  </thead>\n",
       "  <tbody>\n",
       "    <tr>\n",
       "      <th>0</th>\n",
       "      <td>172295</td>\n",
       "      <td>100007</td>\n",
       "      <td>0</td>\n",
       "      <td>artist</td>\n",
       "      <td>1</td>\n",
       "    </tr>\n",
       "    <tr>\n",
       "      <th>1</th>\n",
       "      <td>172305</td>\n",
       "      <td>100007</td>\n",
       "      <td>90</td>\n",
       "      <td>artist</td>\n",
       "      <td>5</td>\n",
       "    </tr>\n",
       "    <tr>\n",
       "      <th>2</th>\n",
       "      <td>172362</td>\n",
       "      <td>100007</td>\n",
       "      <td>90</td>\n",
       "      <td>artist</td>\n",
       "      <td>5</td>\n",
       "    </tr>\n",
       "    <tr>\n",
       "      <th>3</th>\n",
       "      <td>172416</td>\n",
       "      <td>100007</td>\n",
       "      <td>70</td>\n",
       "      <td>artist</td>\n",
       "      <td>4</td>\n",
       "    </tr>\n",
       "    <tr>\n",
       "      <th>4</th>\n",
       "      <td>172483</td>\n",
       "      <td>100007</td>\n",
       "      <td>90</td>\n",
       "      <td>artist</td>\n",
       "      <td>5</td>\n",
       "    </tr>\n",
       "  </tbody>\n",
       "</table>\n",
       "</div>"
      ],
      "text/plain": [
       "   userID  itemID  rating   label rating_categories\n",
       "0  172295  100007       0  artist                 1\n",
       "1  172305  100007      90  artist                 5\n",
       "2  172362  100007      90  artist                 5\n",
       "3  172416  100007      70  artist                 4\n",
       "4  172483  100007      90  artist                 5"
      ]
     },
     "execution_count": 17,
     "metadata": {},
     "output_type": "execute_result"
    }
   ],
   "source": [
    "train_merge.head()"
   ]
  },
  {
   "cell_type": "code",
   "execution_count": null,
   "metadata": {
    "collapsed": true
   },
   "outputs": [],
   "source": []
  }
 ],
 "metadata": {
  "anaconda-cloud": {},
  "kernelspec": {
   "display_name": "Python [Root]",
   "language": "python",
   "name": "Python [Root]"
  },
  "language_info": {
   "codemirror_mode": {
    "name": "ipython",
    "version": 3
   },
   "file_extension": ".py",
   "mimetype": "text/x-python",
   "name": "python",
   "nbconvert_exporter": "python",
   "pygments_lexer": "ipython3",
   "version": "3.5.2"
  }
 },
 "nbformat": 4,
 "nbformat_minor": 0
}
